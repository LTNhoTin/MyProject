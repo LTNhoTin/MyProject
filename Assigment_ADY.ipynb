{
  "nbformat": 4,
  "nbformat_minor": 0,
  "metadata": {
    "colab": {
      "provenance": [],
      "mount_file_id": "1HJ1DJQ6bu-tr8KvwKbA6a54o3Jl_IaUe",
      "authorship_tag": "ABX9TyO8OMfiKqN88HhrnxSdLXOW",
      "include_colab_link": true
    },
    "kernelspec": {
      "name": "python3",
      "display_name": "Python 3"
    },
    "language_info": {
      "name": "python"
    }
  },
  "cells": [
    {
      "cell_type": "markdown",
      "metadata": {
        "id": "view-in-github",
        "colab_type": "text"
      },
      "source": [
        "<a href=\"https://colab.research.google.com/github/LTNhoTin/MyProject/blob/main/Assigment_ADY.ipynb\" target=\"_parent\"><img src=\"https://colab.research.google.com/assets/colab-badge.svg\" alt=\"Open In Colab\"/></a>"
      ]
    },
    {
      "cell_type": "code",
      "execution_count": null,
      "metadata": {
        "colab": {
          "base_uri": "https://localhost:8080/"
        },
        "id": "UE9va6460qBz",
        "outputId": "5045285a-6661-4edd-8d7c-87736b189376"
      },
      "outputs": [
        {
          "output_type": "stream",
          "name": "stdout",
          "text": [
            "Collecting db-sqlite3\n",
            "  Downloading db-sqlite3-0.0.1.tar.gz (1.4 kB)\n",
            "  Preparing metadata (setup.py) ... \u001b[?25l\u001b[?25hdone\n",
            "Collecting db (from db-sqlite3)\n",
            "  Downloading db-0.1.1.tar.gz (3.4 kB)\n",
            "  Preparing metadata (setup.py) ... \u001b[?25l\u001b[?25hdone\n",
            "Collecting antiorm (from db->db-sqlite3)\n",
            "  Downloading antiorm-1.2.1.tar.gz (171 kB)\n",
            "\u001b[2K     \u001b[90m━━━━━━━━━━━━━━━━━━━━━━━━━━━━━━━━━━━━━━━━\u001b[0m \u001b[32m172.0/172.0 kB\u001b[0m \u001b[31m3.0 MB/s\u001b[0m eta \u001b[36m0:00:00\u001b[0m\n",
            "\u001b[?25h  Preparing metadata (setup.py) ... \u001b[?25l\u001b[?25hdone\n",
            "Building wheels for collected packages: db-sqlite3, db, antiorm\n",
            "  Building wheel for db-sqlite3 (setup.py) ... \u001b[?25l\u001b[?25hdone\n",
            "  Created wheel for db-sqlite3: filename=db_sqlite3-0.0.1-py3-none-any.whl size=1769 sha256=551b21ffe17e3656e79a0f99b2ba418e33395f6b02c22c8f2e7ef2541e2c8e7c\n",
            "  Stored in directory: /root/.cache/pip/wheels/a6/b7/83/e941e0a0e04f417982e718ae7295d1e82b5f2863a1c51edd71\n",
            "  Building wheel for db (setup.py) ... \u001b[?25l\u001b[?25hdone\n",
            "  Created wheel for db: filename=db-0.1.1-py3-none-any.whl size=3874 sha256=fd6c0ebad6ea7bd5ec8b9a50db0622f42ee9c1d477b5cfd89953238eff8d3bdd\n",
            "  Stored in directory: /root/.cache/pip/wheels/7d/e4/df/bc55b93af204ab098d9effec76f6889ad12d7ad74e833c4910\n",
            "  Building wheel for antiorm (setup.py) ... \u001b[?25l\u001b[?25hdone\n",
            "  Created wheel for antiorm: filename=antiorm-1.2.1-py3-none-any.whl size=31664 sha256=372e62f6b6c5338a6c248fe6eb35a19575bd416a254dbbd905676e2c42ab4d84\n",
            "  Stored in directory: /root/.cache/pip/wheels/30/9f/7e/b7c95b391cfa77a9e722d359e9c669cf6c8d798d748aec5091\n",
            "Successfully built db-sqlite3 db antiorm\n",
            "Installing collected packages: antiorm, db, db-sqlite3\n",
            "Successfully installed antiorm-1.2.1 db-0.1.1 db-sqlite3-0.0.1\n"
          ]
        }
      ],
      "source": [
        "!pip install db-sqlite3"
      ]
    },
    {
      "cell_type": "code",
      "source": [
        "import sqlite3\n",
        "import pandas as pd\n",
        "\n",
        "# Đường dẫn đến tệp cơ sở dữ liệu SQLite3\n",
        "db_file_path = '/content/drive/MyDrive/CARDIO_TRAIN.db'"
      ],
      "metadata": {
        "id": "ZXitMBbQDzmw"
      },
      "execution_count": null,
      "outputs": []
    },
    {
      "cell_type": "code",
      "source": [
        "# Đường dẫn đến tệp CSV\n",
        "csv_file_path = '/content/drive/MyDrive/CARDIO_TRAIN.csv'\n",
        "# Đọc tệp CSV\n",
        "data = pd.read_csv(csv_file_path)\n",
        "# Kết nối đến tệp cơ sở dữ liệu SQLite3 và lưu dữ liệu\n",
        "conn = sqlite3.connect(db_file_path)\n",
        "data.to_sql('CARDIO_TRAIN', conn, if_exists='replace', index=False)\n",
        "# Đóng kết nối\n",
        "conn.close()"
      ],
      "metadata": {
        "id": "LMJWDaVa2uSm"
      },
      "execution_count": null,
      "outputs": []
    },
    {
      "cell_type": "code",
      "source": [
        "conn = sqlite3.connect(db_file_path)\n",
        "cursor = conn.cursor()\n",
        "cursor.execute(\"PRAGMA table_info(CARDIO_TRAIN)\")\n",
        "columns_info = cursor.fetchall()\n",
        "header = [column[1] for column in columns_info]\n",
        "print(header)\n",
        "conn.close()"
      ],
      "metadata": {
        "id": "pntgi8kH6nE6",
        "colab": {
          "base_uri": "https://localhost:8080/"
        },
        "outputId": "7533205c-89b9-42c8-cd16-1a5e23516313"
      },
      "execution_count": null,
      "outputs": [
        {
          "output_type": "stream",
          "name": "stdout",
          "text": [
            "['Unnamed: 0', 'ID', 'AGE', 'GENDER', 'HEIGHT', 'WEIGHT', 'AP_HI', 'AP_LO', 'CHOLESTEROL', 'GLUC', 'SMOKE', 'ALCO', 'ACTIVE', 'CARDIO']\n"
          ]
        }
      ]
    },
    {
      "cell_type": "code",
      "source": [
        "conn = sqlite3.connect(db_file_path)\n",
        "# Sử dụng Pandas để đọc dữ liệu từ cơ sở dữ liệu và hiển thị nó\n",
        "query = 'SELECT * FROM CARDIO_TRAIN'\n",
        "data = pd.read_sql_query(query, conn)\n",
        "# Xóa cột đầu tiên (cột chỉ số) từ DataFrame\n",
        "data = data.iloc[:, 1:]\n",
        "# In toàn bộ bảng\n",
        "print(data)\n",
        "conn.close()"
      ],
      "metadata": {
        "colab": {
          "base_uri": "https://localhost:8080/"
        },
        "id": "fRxT0UOIDdqO",
        "outputId": "0c96f0d3-f147-4570-c0eb-e5d26bed2e72"
      },
      "execution_count": null,
      "outputs": [
        {
          "output_type": "stream",
          "name": "stdout",
          "text": [
            "          ID  AGE  GENDER  HEIGHT  WEIGHT  AP_HI  AP_LO  CHOLESTEROL  GLUC  \\\n",
            "0          0   50       2     168    62.0    110     80            1     1   \n",
            "1          1   55       1     156    85.0    140     90            3     1   \n",
            "2          2   51       1     165    64.0    130     70            3     1   \n",
            "3          3   48       2     169    82.0    150    100            1     1   \n",
            "4          4   47       1     156    56.0    100     60            1     1   \n",
            "...      ...  ...     ...     ...     ...    ...    ...          ...   ...   \n",
            "69995  99993   52       2     168    76.0    120     80            1     1   \n",
            "69996  99995   61       1     158   126.0    140     90            2     2   \n",
            "69997  99996   52       2     183   105.0    180     90            3     1   \n",
            "69998  99998   61       1     163    72.0    135     80            1     2   \n",
            "69999  99999   56       1     170    72.0    120     80            2     1   \n",
            "\n",
            "       SMOKE  ALCO  ACTIVE  CARDIO  \n",
            "0          0     0       1       0  \n",
            "1          0     0       1       1  \n",
            "2          0     0       0       1  \n",
            "3          0     0       1       1  \n",
            "4          0     0       0       0  \n",
            "...      ...   ...     ...     ...  \n",
            "69995      1     0       1       0  \n",
            "69996      0     0       1       1  \n",
            "69997      0     1       0       1  \n",
            "69998      0     0       0       1  \n",
            "69999      0     0       1       0  \n",
            "\n",
            "[70000 rows x 13 columns]\n"
          ]
        }
      ]
    },
    {
      "cell_type": "code",
      "source": [
        "#save data\n",
        "conn = sqlite3.connect(db_file_path)\n",
        "data.to_sql('CARDIO_TRAIN', conn, if_exists='replace', index=False)\n",
        "conn.close()"
      ],
      "metadata": {
        "id": "QgXSUvreGCnc"
      },
      "execution_count": null,
      "outputs": []
    },
    {
      "cell_type": "code",
      "source": [
        "conn = sqlite3.connect(db_file_path)\n",
        "cursor = conn.cursor()\n",
        "# a. Đếm số lượng dòng trong bảng\n",
        "count_rows_query = 'SELECT COUNT(*) FROM CARDIO_TRAIN'\n",
        "cursor.execute(count_rows_query)\n",
        "count_rows = cursor.fetchone()[0]\n",
        "print(f'Số lượng dòng trong bảng: {count_rows}')\n",
        "conn.close()"
      ],
      "metadata": {
        "colab": {
          "base_uri": "https://localhost:8080/"
        },
        "id": "kuswBRnwPs05",
        "outputId": "f6f768b7-76ff-401e-cfd3-084b5f8273d6"
      },
      "execution_count": null,
      "outputs": [
        {
          "output_type": "stream",
          "name": "stdout",
          "text": [
            "Số lượng dòng trong bảng: 70000\n"
          ]
        }
      ]
    },
    {
      "cell_type": "code",
      "source": [
        "conn = sqlite3.connect(db_file_path)\n",
        "cursor = conn.cursor()\n",
        "cursor.execute('SELECT COUNT(*) FROM CARDIO_TRAIN WHERE CARDIO = 1')\n",
        "count_cardio_cases = cursor.fetchone()[0]\n",
        "print(f'Số lượng trường hợp có bệnh tim mạch: {count_cardio_cases}')\n",
        "conn.close()"
      ],
      "metadata": {
        "colab": {
          "base_uri": "https://localhost:8080/"
        },
        "id": "uR8PgXqeTBpc",
        "outputId": "4a30470b-b343-4b4c-9109-b964c9d21684"
      },
      "execution_count": null,
      "outputs": [
        {
          "output_type": "stream",
          "name": "stdout",
          "text": [
            "Số lượng trường hợp có bệnh tim mạch: 34979\n"
          ]
        }
      ]
    },
    {
      "cell_type": "code",
      "source": [
        "conn = sqlite3.connect(db_file_path)\n",
        "cursor = conn.cursor()\n",
        "cursor.execute('SELECT GENDER, COUNT(*) FROM CARDIO_TRAIN GROUP BY GENDER')\n",
        "gender_counts = cursor.fetchall()\n",
        "for gender, count in gender_counts:\n",
        "    gender_label = \"Nam\" if gender == 2 else \"Nữ\"\n",
        "    print(f'Số người {gender_label}: {count}')\n",
        "    conn.close()"
      ],
      "metadata": {
        "colab": {
          "base_uri": "https://localhost:8080/"
        },
        "id": "N0fYf0aPAsk9",
        "outputId": "e7b2080d-0150-498b-f94b-27ded629994e"
      },
      "execution_count": null,
      "outputs": [
        {
          "output_type": "stream",
          "name": "stdout",
          "text": [
            "Số người Nữ: 45530\n",
            "Số người Nam: 24470\n"
          ]
        }
      ]
    },
    {
      "cell_type": "code",
      "source": [
        "conn = sqlite3.connect(db_file_path)\n",
        "cursor = conn.cursor()\n",
        "query = 'SELECT * FROM CARDIO_TRAIN ORDER BY AP_HI DESC LIMIT 10'\n",
        "data_top_10 = pd.read_sql_query(query, conn)\n",
        "conn.close()\n",
        "\n",
        "# Tính phần trăm số trường hợp bệnh tim mạch trong 10 mẫu này\n",
        "count_cardio_top_10 = data_top_10[data_top_10['CARDIO'] == 1]['CARDIO'].count()\n",
        "percentage_cardio_top_10 = (count_cardio_top_10 / 10) * 100\n",
        "print(f'Phần trăm bệnh tim mạch trong 10 mẫu: {percentage_cardio_top_10}%')\n"
      ],
      "metadata": {
        "colab": {
          "base_uri": "https://localhost:8080/"
        },
        "id": "GEV6fVG2w1HX",
        "outputId": "682f0a17-6e34-47b3-ae5c-5fae6f568df5"
      },
      "execution_count": null,
      "outputs": [
        {
          "output_type": "stream",
          "name": "stdout",
          "text": [
            "Phần trăm bệnh tim mạch trong 10 mẫu: 80.0%\n"
          ]
        }
      ]
    },
    {
      "cell_type": "code",
      "source": [
        "average_weight = data['WEIGHT'].mean()\n",
        "conn = sqlite3.connect(db_file_path)\n",
        "cursor = conn.cursor()\n",
        "query = f\"SELECT * FROM CARDIO_TRAIN WHERE WEIGHT > {average_weight} LIMIT 10\"\n",
        "data_above_average_weight = pd.read_sql_query(query, conn)\n",
        "conn.close()\n",
        "\n",
        "# Tính phần trăm số người có vấn đề về mạch máu trong 10 mẫu này\n",
        "count_vascular_above_average_weight = data_above_average_weight[data_above_average_weight['CARDIO'] == 1]['CARDIO'].count()\n",
        "percentage_vascular_above_average_weight = (count_vascular_above_average_weight / 10) * 100\n",
        "print(f'Phần trăm có vấn đề về mạch máu trong 10 mẫu: {percentage_vascular_above_average_weight}%')\n"
      ],
      "metadata": {
        "colab": {
          "base_uri": "https://localhost:8080/"
        },
        "id": "c4eJRSsgw1Qh",
        "outputId": "d33d1438-0f22-4735-b425-ebc6d383ffb2"
      },
      "execution_count": null,
      "outputs": [
        {
          "output_type": "stream",
          "name": "stdout",
          "text": [
            "Phần trăm có vấn đề về mạch máu trong 10 mẫu: 40.0%\n"
          ]
        }
      ]
    },
    {
      "cell_type": "code",
      "source": [
        "conn = sqlite3.connect(db_file_path)\n",
        "cursor = conn.cursor()\n",
        "query = \"SELECT * FROM CARDIO_TRAIN WHERE GLUC > 1 LIMIT 10\"\n",
        "data_high_glucose = pd.read_sql_query(query, conn)\n",
        "conn.close()\n",
        "\n",
        "# Đếm số người có bệnh tim mạch trong kết quả\n",
        "count_cardio_high_glucose = data_high_glucose[data_high_glucose['CARDIO'] == 1]['CARDIO'].count()\n",
        "print(f'Số người có bệnh tim mạch trong 10 mẫu: {count_cardio_high_glucose}')\n"
      ],
      "metadata": {
        "colab": {
          "base_uri": "https://localhost:8080/"
        },
        "id": "LviBRhCow1Xr",
        "outputId": "3130f4df-6d12-46f5-ae23-22a005fa6c72"
      },
      "execution_count": null,
      "outputs": [
        {
          "output_type": "stream",
          "name": "stdout",
          "text": [
            "Số người có bệnh tim mạch trong 10 mẫu: 5\n"
          ]
        }
      ]
    },
    {
      "cell_type": "code",
      "source": [
        "conn = sqlite3.connect(db_file_path)\n",
        "cursor = conn.cursor()\n",
        "query = 'SELECT * FROM CARDIO_TRAIN ORDER BY AGE DESC LIMIT 10'\n",
        "data_oldest = pd.read_sql_query(query, conn)\n",
        "conn.close()\n",
        "\n",
        "# Đếm số người có vấn đề về mạch máu trong 10 người lớn tuổi nhất\n",
        "count_vascular_oldest = data_oldest[data_oldest['CARDIO'] == 1]['CARDIO'].count()\n",
        "print(f'Số người lớn tuổi nhất có vấn đề về mạch máu: {count_vascular_oldest}')\n"
      ],
      "metadata": {
        "colab": {
          "base_uri": "https://localhost:8080/"
        },
        "id": "fNeasjZZw1eV",
        "outputId": "05e8f9e0-19b1-49a2-9550-b39077ccf1e9"
      },
      "execution_count": null,
      "outputs": [
        {
          "output_type": "stream",
          "name": "stdout",
          "text": [
            "Số người lớn tuổi nhất có vấn đề về mạch máu: 7\n"
          ]
        }
      ]
    },
    {
      "cell_type": "code",
      "source": [
        "conn = sqlite3.connect(db_file_path)\n",
        "cursor = conn.cursor()\n",
        "query = 'SELECT * FROM CARDIO_TRAIN WHERE CHOLESTEROL = 3 LIMIT 10'\n",
        "data_cholesterol_3 = pd.read_sql_query(query, conn)\n",
        "conn.close()\n",
        "\n",
        "# Đếm số người có vấn đề về tim trong 10 người này\n",
        "count_heart_problem_cholesterol_3 = data_cholesterol_3[data_cholesterol_3['CARDIO'] == 1]['CARDIO'].count()\n",
        "print(f'Số người có vấn đề về tim trong 10 người với CHOLESTEROL=3: {count_heart_problem_cholesterol_3}')\n"
      ],
      "metadata": {
        "id": "jxx1md9Gwpcu",
        "colab": {
          "base_uri": "https://localhost:8080/"
        },
        "outputId": "2312d45a-07f7-4418-90b9-9324ed5cdc76"
      },
      "execution_count": null,
      "outputs": [
        {
          "output_type": "stream",
          "name": "stdout",
          "text": [
            "Số người có vấn đề về tim trong 10 người với CHOLESTEROL=3: 9\n"
          ]
        }
      ]
    },
    {
      "cell_type": "code",
      "source": [
        "conn = sqlite3.connect(db_file_path)\n",
        "cursor = conn.cursor()\n",
        "query = 'SELECT * FROM CARDIO_TRAIN WHERE SMOKE = 1 LIMIT 10'\n",
        "data_smokers = pd.read_sql_query(query, conn)\n",
        "conn.close()\n",
        "\n",
        "# Đếm số người có vấn đề về tim trong 10 người hút thuốc\n",
        "count_heart_problem_smokers = data_smokers[data_smokers['CARDIO'] == 1]['CARDIO'].count()\n",
        "print(f'Số người có vấn đề về tim trong 10 người hút thuốc: {count_heart_problem_smokers}')\n"
      ],
      "metadata": {
        "id": "xZHSOqNswsg6",
        "colab": {
          "base_uri": "https://localhost:8080/"
        },
        "outputId": "9ee0633f-1723-4efa-b70c-fa928eb1b46f"
      },
      "execution_count": null,
      "outputs": [
        {
          "output_type": "stream",
          "name": "stdout",
          "text": [
            "Số người có vấn đề về tim trong 10 người hút thuốc: 7\n"
          ]
        }
      ]
    },
    {
      "cell_type": "code",
      "source": [
        "conn = sqlite3.connect(db_file_path)\n",
        "cursor = conn.cursor()\n",
        "query = 'SELECT * FROM CARDIO_TRAIN WHERE ACTIVE = 1 LIMIT 10'\n",
        "data_exercisers = pd.read_sql_query(query, conn)\n",
        "conn.close()\n",
        "\n",
        "# Đếm số người có vấn đề về tim trong 10 người tập thể dục\n",
        "count_heart_problem_exercisers = data_exercisers[data_exercisers['CARDIO'] == 1]['CARDIO'].count()\n",
        "print(f'Số người có vấn đề về tim trong 10 người tập thể dục: {count_heart_problem_exercisers}')\n"
      ],
      "metadata": {
        "id": "7sO6b-42wutg",
        "colab": {
          "base_uri": "https://localhost:8080/"
        },
        "outputId": "96acb045-fd4c-4f49-f1c0-fbfe9d812eb5"
      },
      "execution_count": null,
      "outputs": [
        {
          "output_type": "stream",
          "name": "stdout",
          "text": [
            "Số người có vấn đề về tim trong 10 người tập thể dục: 3\n"
          ]
        }
      ]
    }
  ]
}